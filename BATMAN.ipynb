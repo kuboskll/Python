{
 "cells": [
  {
   "cell_type": "code",
   "execution_count": null,
   "metadata": {},
   "outputs": [],
   "source": [
    "import turtle\n",
    "import math\n",
    "myPen=turtle.Turtle()\n",
    "myPen.speed(500)\n",
    "window=turtle.Screen()\n",
    "window.bgcolor(\"#000000\")\n",
    "myPen.color(\"yellow\")\n",
    "myPen.fillcolor(\"yellow\")\n",
    "zoom=20\n",
    "myPen.left(90)\n",
    "myPen.penup()\n",
    "myPen.goto(-7*zoom,0)\n",
    "myPen.pendown()\n",
    "myPen.begin_fill()\n",
    "for xz in range(-7*zoom,-3*zoom,1):\n",
    "    x=xz/zoom\n",
    "    absx=math.fabs(x)\n",
    "    y=1.5*math.sqrt((-math.fabs(absx-1))*math.fabs(3-absx)/((absx-1)*(3-absx)))*(1+math.fabs(absx-3)/(absx-3))*math.sqrt(1-(x/7)**2)+(4.5+0.75*(math.fabs(x-0.5)+math.fabs(x+0.5))-2.75*(math.fabs(x-0.75)+math.fabs(x+0.75)))*(1+math.fabs(1-absx)/(1-absx))\n",
    "    myPen.goto(xz,y*zoom)\n",
    "for xz in range(-3*zoom,-1*zoom-1,1):\n",
    "    x=xz/zoom\n",
    "    absx=math.fabs(x)\n",
    "    y=(2.71052+1.5-0.5*absx-1.35526*math.sqrt(4-(absx-1)**2))*math.sqrt(math.fabs(absx-1)/(absx-1))\n",
    "myPen.goto(xz,y*zoom)\n",
    "myPen.goto(-1*zoom,3*zoom)\n",
    "myPen.goto(int(-0.5*zoom),int(2.2*zoom))\n",
    "myPen.goto(int(-0.5*zoom),int(2.2*zoom))\n",
    "myPen.goto(1*zoom,3*zoom)\n",
    "for xz in range(1*zoom+1,3*zoom+1,1):\n",
    "    x=xz/zoom\n",
    "    y=(2.71052+1.5-0.5*absx-1.35526*math.sqrt(4-(absx-1)**2))*math.sqrt(math.fabs(absx-1)/(absx-1))\n",
    "    myPen.goto(xz,y*zoom)\n",
    "for xz in range(3*zoom+1,7*zoom+1,1):\n",
    "    x=xz/zoom\n",
    "    y=1.5*math.sqrt((-math.fabs(absx-1))*math.fabs(3-absx)/((absx-1)*(3-absx)))*(1+math.fabs(absx-3)/(absx-3))*math.sqrt(1-(x/7)**2)+(4.5+0.75*(math.fabs(x-0.5)+math.fabs(x+0.5))-2.75*(math.fabs(x-0.75)+math.fabs(x+0.75)))*(1+math.fabs(1-absx)/(1-absx)\n",
    "    myPen.goto(xz,y*zoom)\n",
    "for xz in range(7*zoom,4*zoom,-1):\n",
    "    x=xz/zoom\n",
    "    absx=math.fabs(x)\n",
    "    y=(-3)*math.sqrt(1-(x/7)**2)*math.sqrt(math.fabs(absx-4)/(absx-4))\n",
    "    myPen.goto(xz,y*zoom)                                          \n",
    "for xz in range(4*zoom,-4*zoom,-1):\n",
    "    x=xz/zoom\n",
    "    absx=math.fabs(x)\n",
    "    y=math.fabs(x/2)-0.0913722*x**2-3+math.sqrt(1-(math.fabs(absx-2)-1)**2)\n",
    "    myPen.goto(xz,y*zoom)\n",
    "\n",
    "for xz in range(-4*zoom-1,-7*zoom-1,-1):\n",
    "    x=xz/zoom\n",
    "    absx=math.fabs(x)\n",
    "    y=(-3)*math.sqrt(1-(x/7)**2)*math.sqrt(math.fabs(absx-4)/(absx-4))\n",
    "    myPen.goto(xz,y*zoom)\n",
    "myPen.end_fill()\n",
    "myPen.penup()\n",
    "myPen.goto(300,300)"
   ]
  }
 ],
 "metadata": {
  "kernelspec": {
   "display_name": "Python 3",
   "language": "python",
   "name": "python3"
  },
  "language_info": {
   "codemirror_mode": {
    "name": "ipython",
    "version": 3
   },
   "file_extension": ".py",
   "mimetype": "text/x-python",
   "name": "python",
   "nbconvert_exporter": "python",
   "pygments_lexer": "ipython3",
   "version": "3.7.3"
  }
 },
 "nbformat": 4,
 "nbformat_minor": 2
}
